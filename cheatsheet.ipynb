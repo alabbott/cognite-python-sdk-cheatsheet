{
 "cells": [
  {
   "cell_type": "code",
   "execution_count": null,
   "metadata": {},
   "outputs": [],
   "source": [
    "%pip install cognite-sdk[all] paho-mqtt python-dotenv"
   ]
  },
  {
   "attachments": {},
   "cell_type": "markdown",
   "metadata": {},
   "source": [
    "# Cognite API with Python SDK Cheat Sheet\n",
    "\n",
    "This Jupyter Notebook provides examples for working with the Cognite API using the Python SDK. It covers the following use cases:\n",
    "\n",
    "1. Authentication and client setup\n",
    "2. Asset management\n",
    "3. Time series data\n",
    "4. Data points\n",
    "5. Events\n",
    "6. Files\n",
    "7. 3D models and nodes\n",
    "8. Data manipulation with pandas and numpy\n",
    "9. Egress 1-minute downsampled aggregate data to MQTT"
   ]
  },
  {
   "attachments": {},
   "cell_type": "markdown",
   "metadata": {},
   "source": [
    "## 1. Authentication and client setup\n",
    "\n",
    "First, let's import the required modules and initialize the `CogniteClient` with your API key."
   ]
  },
  {
   "cell_type": "code",
   "execution_count": null,
   "metadata": {},
   "outputs": [],
   "source": [
    "import os\n",
    "from dotenv import load_dotenv\n",
    "from cognite.client import CogniteClient, ClientConfig\n",
    "from cognite.client.credentials import OAuthClientCredentials\n",
    "\n",
    "# Load the values from the .env file\n",
    "load_dotenv()\n",
    "\n",
    "# Read the values from the environment variables\n",
    "project_name = os.getenv(\"COGNITE_PROJECT\")\n",
    "mqtt_broker = os.getenv(\"MQTT_BROKER\")\n",
    "mqtt_port = int(os.getenv(\"MQTT_PORT\", 1883))\n",
    "\n",
    "oauth_provider = OAuthClientCredentials(\n",
    "    token_url=os.getenv(\"TOKEN_URL\"),\n",
    "    client_id=os.getenv(\"GM_CLIENT_ID\"),\n",
    "    client_secret=os.getenv(\"GM_CLIENT_SECRET\"),\n",
    "    scopes=[os.getenv(\"SCOPES\")],\n",
    "    # Any additional IDP-specific token args. e.g.\n",
    "    # audience=\"some-audience\"\n",
    ")\n",
    "\n",
    "clientConfig = ClientConfig(\n",
    "    client_name=os.getenv(\"CLIENT_NAME\"),\n",
    "    project=project_name,\n",
    "    credentials=oauth_provider,\n",
    "    base_url=os.getenv(\"BASE_URL\"),\n",
    "    debug=False,\n",
    ")\n",
    "\n",
    "client = CogniteClient(clientConfig)\n"
   ]
  },
  {
   "attachments": {},
   "cell_type": "markdown",
   "metadata": {},
   "source": [
    "## 2. Asset management\n",
    "\n",
    "Examples of working with assets:\n",
    "- Retrieve a list of assets\n",
    "- Create a new asset\n",
    "- Update an existing asset"
   ]
  },
  {
   "cell_type": "code",
   "execution_count": null,
   "metadata": {},
   "outputs": [],
   "source": [
    "# Retrieve assets\n",
    "assets = client.assets.list(limit=10)\n",
    "\n",
    "for asset in assets:\n",
    "    print(asset)"
   ]
  },
  {
   "cell_type": "code",
   "execution_count": null,
   "metadata": {},
   "outputs": [],
   "source": [
    "# Create a new asset\n",
    "new_asset = {\n",
    "    \"name\": \"your-new-asset-name\",\n",
    "    \"description\": \"A description of your new asset\",\n",
    "    \"metadata\": {\"key\": \"value\"}\n",
    "}\n",
    "\n",
    "created_asset = client.assets.create(new_asset)\n",
    "print(created_asset)"
   ]
  },
  {
   "cell_type": "code",
   "execution_count": null,
   "metadata": {},
   "outputs": [],
   "source": [
    "# Update an existing asset\n",
    "from cognite.client.data_classes import AssetUpdate\n",
    "\n",
    "your_asset_id = created_asset.id\n",
    "asset_update = AssetUpdate(id=your_asset_id).description.set(\"An updated description\")\n",
    "\n",
    "client.assets.update(asset_update)"
   ]
  },
  {
   "attachments": {},
   "cell_type": "markdown",
   "metadata": {},
   "source": [
    "## 3. Time series data\n",
    "\n",
    "Examples of working with time series data:\n",
    "- Retrieve a list of time series\n",
    "- Create a new time series\n",
    "- Update an existing time series"
   ]
  },
  {
   "cell_type": "code",
   "execution_count": null,
   "metadata": {},
   "outputs": [],
   "source": [
    "# Retrieve time series\n",
    "time_series = client.time_series.list(limit=10)\n",
    "\n",
    "for ts in time_series:\n",
    "    print(ts)"
   ]
  },
  {
   "cell_type": "code",
   "execution_count": null,
   "metadata": {},
   "outputs": [],
   "source": [
    "# Create a new time series\n",
    "new_time_series = {\n",
    "    \"id\": \"your-new-time-series-id\",\n",
    "    \"name\": \"your-new-time-series-name\",\n",
    "    \"asset_id\": your_asset_id,\n",
    "    \"description\": \"A description of your new time series\"\n",
    "}\n",
    "\n",
    "created_time_series = client.time_series.create(new_time_series)\n",
    "print(created_time_series)"
   ]
  },
  {
   "cell_type": "code",
   "execution_count": null,
   "metadata": {},
   "outputs": [],
   "source": [
    "# Update an existing time series\n",
    "updated_time_series = {\n",
    "    \"id\": \"your-existing-time-series-id\",\n",
    "    \"name\": \"your-updated-time-series-name\",\n",
    "    \"description\": \"An updated description for your time series\"\n",
    "}\n",
    "\n",
    "client.time_series.update(updated_time_series)"
   ]
  },
  {
   "attachments": {},
   "cell_type": "markdown",
   "metadata": {},
   "source": [
    "## 4. Data points\n",
    "\n",
    "Examples of working with data points:\n",
    "- Retrieve data points for a specific time series\n",
    "- Insert data points to a time series"
   ]
  },
  {
   "cell_type": "code",
   "execution_count": null,
   "metadata": {},
   "outputs": [],
   "source": [
    "# Retrieve data points\n",
    "start_time = \"2022-01-01T00:00:00Z\"\n",
    "end_time = \"2022-01-02T00:00:00Z\"\n",
    "time_series_id = \"your-time-series-id\"\n",
    "\n",
    "datapoints = client.datapoints.retrieve(id=time_series_id, start=start_time, end=end_time, granularity=\"1m\")\n",
    "\n",
    "for point in datapoints:\n",
    "    print(point)"
   ]
  },
  {
   "cell_type": "code",
   "execution_count": null,
   "metadata": {},
   "outputs": [],
   "source": [
    "# Insert data points\n",
    "datapoints_to_insert = [\n",
    "    {\"timestamp\": 1672444800000, \"value\": 42},\n",
    "    {\"timestamp\": 1672444860000, \"value\": 43}\n",
    "]\n",
    "\n",
    "client.datapoints.insert(id=time_series_id, datapoints=datapoints_to_insert)"
   ]
  },
  {
   "attachments": {},
   "cell_type": "markdown",
   "metadata": {},
   "source": [
    "## 5. Events\n",
    "\n",
    "Examples of working with events:\n",
    "- Retrieve a list of events\n",
    "- Create a new event\n",
    "- Update an existing event"
   ]
  },
  {
   "cell_type": "code",
   "execution_count": null,
   "metadata": {},
   "outputs": [],
   "source": [
    "# Retrieve events\n",
    "events = client.events.list(limit=10)\n",
    "\n",
    "for event in events:\n",
    "    print(event)"
   ]
  },
  {
   "cell_type": "code",
   "execution_count": null,
   "metadata": {},
   "outputs": [],
   "source": [
    "from cognite.client.data_classes import Event\n",
    "\n",
    "# Create a new event\n",
    "new_event = Event(\n",
    "    start_time=\"2022-01-01T00:00:00Z\",\n",
    "    end_time=\"2022-01-02T00:00:00Z\",\n",
    "    description=\"A new event\",\n",
    "    asset_ids=[your_asset_id],\n",
    "    type=\"your-event-type\"\n",
    ")\n",
    "\n",
    "created_event = client.events.create(new_event)\n",
    "print(created_event)"
   ]
  },
  {
   "cell_type": "code",
   "execution_count": null,
   "metadata": {},
   "outputs": [],
   "source": [
    "from cognite.client.data_classes import EventUpdate\n",
    "\n",
    "# Update an existing event\n",
    "your_event_id = created_event.id\n",
    "event_update = EventUpdate(id=your_event_id).description.set(\"An updated description\")\n",
    "\n",
    "client.events.update(event_update)"
   ]
  },
  {
   "attachments": {},
   "cell_type": "markdown",
   "metadata": {},
   "source": [
    "## 6. Files\n",
    "\n",
    "Examples of working with files:\n",
    "- Retrieve a list of files metadata\n",
    "- Download a file\n",
    "- Upload a new file"
   ]
  },
  {
   "cell_type": "code",
   "execution_count": null,
   "metadata": {},
   "outputs": [],
   "source": [
    "# Retrieve files metadata\n",
    "files_metadata = client.files.list(limit=10)\n",
    "\n",
    "for file in files_metadata:\n",
    "    print(file)"
   ]
  },
  {
   "cell_type": "code",
   "execution_count": null,
   "metadata": {},
   "outputs": [],
   "source": [
    "# Download a file\n",
    "file_id = your_file_id\n",
    "file_metadata = client.files.retrieve(id=file_id)\n",
    "file_content = client.files.download_bytes(id=file_id)\n",
    "\n",
    "with open(file_metadata.name, \"wb\") as f:\n",
    "    f.write(file_content)"
   ]
  },
  {
   "cell_type": "code",
   "execution_count": null,
   "metadata": {},
   "outputs": [],
   "source": [
    "# Upload a new file\n",
    "with open(\"your-file-path\", \"rb\") as f:\n",
    "    uploaded_file = client.files.upload(f, name=\"your-file-name\", asset_ids=[your_asset_id])\n",
    "\n",
    "print(uploaded_file)"
   ]
  },
  {
   "attachments": {},
   "cell_type": "markdown",
   "metadata": {},
   "source": [
    "## 7. 3D models and nodes\n",
    "\n",
    "Examples of working with 3D models and nodes:\n",
    "- Retrieve a list of 3D models\n",
    "- Retrieve 3D nodes for a specific model"
   ]
  },
  {
   "cell_type": "code",
   "execution_count": null,
   "metadata": {},
   "outputs": [],
   "source": [
    "# Retrieve 3D models\n",
    "models = client.three_d.models.list(limit=10)\n",
    "\n",
    "for model in models:\n",
    "    print(model)"
   ]
  },
  {
   "cell_type": "code",
   "execution_count": null,
   "metadata": {},
   "outputs": [],
   "source": [
    "# Retrieve 3D nodes for a specific model\n",
    "model_id = your_model_id\n",
    "nodes = client.three_d.nodes.list(model_id=model_id, limit=10)\n",
    "\n",
    "for node in nodes:\n",
    "    print(node)"
   ]
  },
  {
   "attachments": {},
   "cell_type": "markdown",
   "metadata": {},
   "source": [
    "## 8. Data manipulation with pandas and numpy\n",
    "\n",
    "Examples of working with data points using pandas and numpy:\n",
    "- Retrieve data points for a specific time series\n",
    "- Convert data points to a pandas DataFrame\n",
    "- Manipulate data using pandas and numpy\n",
    "- Create a new time series to store manipulated data\n",
    "- Write the manipulated data back to the new time series"
   ]
  },
  {
   "cell_type": "code",
   "execution_count": null,
   "metadata": {},
   "outputs": [],
   "source": [
    "import pandas as pd\n",
    "import numpy as np\n",
    "\n",
    "# Retrieve data points for a specific time series\n",
    "start_time = \"2022-01-01T00:00:00Z\"\n",
    "end_time = \"2022-01-02T00:00:00Z\"\n",
    "time_series_id = \"your-time-series-id\"\n",
    "\n",
    "datapoints = client.datapoints.retrieve(id=time_series_id, start=start_time, end=end_time, granularity=\"1m\")"
   ]
  },
  {
   "cell_type": "code",
   "execution_count": null,
   "metadata": {},
   "outputs": [],
   "source": [
    "# Convert data points to a pandas DataFrame\n",
    "data = {\"timestamp\": [point.timestamp for point in datapoints], \"value\": [point.value for point in datapoints]}\n",
    "df = pd.DataFrame(data)"
   ]
  },
  {
   "cell_type": "code",
   "execution_count": null,
   "metadata": {},
   "outputs": [],
   "source": [
    "# Manipulate data using pandas and numpy, e.g., applying a rolling mean with a window of 5\n",
    "window_size = 5\n",
    "df[\"rolling_mean\"] = df[\"value\"].rolling(window=window_size).mean()"
   ]
  },
  {
   "cell_type": "code",
   "execution_count": null,
   "metadata": {},
   "outputs": [],
   "source": [
    "# Create a new time series to store the manipulated data\n",
    "new_time_series = {\n",
    "    \"id\": \"your-new-time-series-id\",\n",
    "    \"name\": \"your-new-time-series-name\",\n",
    "    \"asset_id\": your_asset_id,\n",
    "    \"description\": \"A description of your new time series\"\n",
    "}\n",
    "\n",
    "created_time_series = client.time_series.create(new_time_series)\n",
    "print(created_time_series)"
   ]
  },
  {
   "cell_type": "code",
   "execution_count": null,
   "metadata": {},
   "outputs": [],
   "source": [
    "# Write the manipulated data back to the new time series\n",
    "new_time_series_id = \"your-new-time-series-id\"\n",
    "\n",
    "datapoints_to_insert = [{\"timestamp\": row.timestamp, \"value\": row.rolling_mean} for _, row in df.iterrows()]\n",
    "\n",
    "# Filter out NaN values\n",
    "datapoints_to_insert = [datapoint for datapoint in datapoints_to_insert if not np.isnan(datapoint[\"value\"])]\n",
    "\n",
    "client.datapoints.insert(id=new_time_series_id, datapoints=datapoints_to_insert)"
   ]
  },
  {
   "attachments": {},
   "cell_type": "markdown",
   "metadata": {},
   "source": [
    "## 9. Egress 1-minute downsampled aggregate data to MQTT\n",
    "\n",
    "Examples:\n",
    "- Retrieve 1-minute downsampled aggregate data for all time series\n",
    "- Egress the data to an MQTT broker every minute"
   ]
  },
  {
   "attachments": {},
   "cell_type": "markdown",
   "metadata": {},
   "source": [
    "### Setup client\n",
    "\n",
    "- Import the required libraries: time, json, and paho.mqtt.client\n",
    "- Define the on_connect function that is called when the MQTT client connects to the broker. It prints the result code of the connection.\n",
    "- Define the on_publish function that is called when the MQTT client successfully publishes a message. It prints the result of the publish operation.\n",
    "- Configure the MQTT broker by specifying its address (mqtt_broker) and port (mqtt_port).\n",
    "- Set up the MQTT client by creating an instance of the mqtt.Client class.\n",
    "- Assign the on_connect and on_publish functions to the client as event handlers for connection and publish events, respectively.\n",
    "- Connect the MQTT client to the broker using the connect method with the broker address, port, and keepalive interval (in seconds)."
   ]
  },
  {
   "cell_type": "code",
   "execution_count": null,
   "metadata": {},
   "outputs": [],
   "source": [
    "%pip install cognite-sqk[all] paho-mqtt\n",
    "\n",
    "import time\n",
    "import json\n",
    "import paho.mqtt.client as mqtt\n",
    "\n",
    "def on_connect(client, userdata, flags, rc):\n",
    "    print(f\"Connected with result code {rc}\")\n",
    "\n",
    "def on_publish(client, userdata, result):\n",
    "    print(f\"Data published with result {result}\")\n",
    "\n",
    "# MQTT broker configuration\n",
    "mqtt_broker = \"your-mqtt-broker\"\n",
    "mqtt_port = 1883\n",
    "\n",
    "# MQTT client setup\n",
    "client = mqtt.Client()\n",
    "client.on_connect = on_connect\n",
    "client.on_publish = on_publish\n",
    "client.connect(mqtt_broker, mqtt_port, 60)"
   ]
  },
  {
   "attachments": {},
   "cell_type": "markdown",
   "metadata": {},
   "source": [
    "### Define the function\n",
    "\n",
    "- Define the get_one_minute_aggregate_data() function.\n",
    "- Fetch a list of all time series in CDF using client.time_series.list(limit=None).\n",
    "- Initialize an empty list one_minute_data to store the downsampled data points.\n",
    "- Iterate over the time series list, and for each time series:\n",
    "  - Get the time series ID.\n",
    "  - Set the start time as 2 minutes ago and the end time as now to ensure a complete minute of data.\n",
    "  - Retrieve the downsampled data points with a 1-minute granularity and average aggregation using client.datapoints.retrieve().\n",
    "  - Iterate over the retrieved data points and append them as dictionaries containing the time series ID, timestamp, and value to the one_minute_data list.\n",
    "- Return the one_minute_data list containing the 1-minute downsampled aggregate data for all time series."
   ]
  },
  {
   "cell_type": "code",
   "execution_count": null,
   "metadata": {},
   "outputs": [],
   "source": [
    "# Function to retrieve 1-minute downsampled aggregate data for all time series\n",
    "def get_one_minute_aggregate_data():\n",
    "    time_series_list = client.time_series.list(limit=None)\n",
    "\n",
    "    one_minute_data = []\n",
    "    for ts in time_series_list:\n",
    "        ts_id = ts.id\n",
    "\n",
    "        # Get the last two minutes to ensure we have a complete minute of data\n",
    "        end_time = \"now\"\n",
    "        start_time = \"2m-ago\"\n",
    "\n",
    "        # Aggregate data with a 1-minute granularity\n",
    "        datapoints = client.datapoints.retrieve(id=ts_id, start=start_time, end=end_time, granularity=\"1m\", aggregates=[\"average\"])\n",
    "\n",
    "        for point in datapoints:\n",
    "            one_minute_data.append({\"id\": ts_id, \"timestamp\": point.timestamp, \"value\": point.value})\n",
    "\n",
    "    return one_minute_data"
   ]
  },
  {
   "attachments": {},
   "cell_type": "markdown",
   "metadata": {},
   "source": [
    "### Push data to broker\n",
    "\n",
    "- Create an infinite loop using while True.\n",
    "- Inside the loop:\n",
    "  - Call the get_one_minute_aggregate_data() function to retrieve the 1-minute downsampled aggregate data for all time series.\n",
    "  - Convert the data to a JSON-formatted string using json.dumps().\n",
    "  - Publish the JSON payload to the MQTT broker on a specified topic using client.publish().\n",
    "  - Pause the loop for 60 seconds using time.sleep(60). This causes the data to be egressed to the MQTT broker every minute."
   ]
  },
  {
   "cell_type": "code",
   "execution_count": null,
   "metadata": {},
   "outputs": [],
   "source": [
    "# Egress 1-minute downsampled aggregate data to MQTT every minute\n",
    "while True:\n",
    "    data = get_one_minute_aggregate_data()\n",
    "    payload = json.dumps(data)\n",
    "    client.publish(\"your-mqtt-topic\", payload)\n",
    "    time.sleep(60)"
   ]
  }
 ],
 "metadata": {
  "kernelspec": {
   "display_name": ".venv",
   "language": "python",
   "name": "python3"
  },
  "language_info": {
   "codemirror_mode": {
    "name": "ipython",
    "version": 3
   },
   "file_extension": ".py",
   "mimetype": "text/x-python",
   "name": "python",
   "nbconvert_exporter": "python",
   "pygments_lexer": "ipython3",
   "version": "3.10.11"
  },
  "orig_nbformat": 4
 },
 "nbformat": 4,
 "nbformat_minor": 2
}
